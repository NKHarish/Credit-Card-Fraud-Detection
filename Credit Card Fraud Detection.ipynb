{
 "cells": [
  {
   "cell_type": "markdown",
   "id": "0d84f13b",
   "metadata": {},
   "source": [
    "# Fraudulent Credit Card Transactions Detection¶"
   ]
  },
  {
   "cell_type": "code",
   "execution_count": 74,
   "id": "1035575c",
   "metadata": {},
   "outputs": [],
   "source": [
    "# load libraries\n",
    "import pandas as pd\n",
    "import numpy as np\n",
    "import matplotlib.pyplot as plt\n",
    "%matplotlib inline\n",
    "import seaborn as sns\n",
    "\n",
    "\n",
    "from sklearn.model_selection import train_test_split\n",
    "from sklearn.metrics import roc_auc_score\n",
    "from sklearn.ensemble import RandomForestClassifier\n",
    "from sklearn.ensemble import AdaBoostClassifier\n",
    "from catboost import CatBoostClassifier\n",
    "\n",
    "import xgboost as xgb\n",
    "import lightgbm as lgb\n",
    "from lightgbm import LGBMClassifier\n",
    "\n",
    "import warnings\n",
    "warnings.filterwarnings(\"ignore\")"
   ]
  },
  {
   "cell_type": "code",
   "execution_count": 75,
   "id": "5df4c387",
   "metadata": {},
   "outputs": [],
   "source": [
    "df = pd.read_csv(\"creditcard.csv\")"
   ]
  },
  {
   "cell_type": "code",
   "execution_count": 76,
   "id": "113a8839",
   "metadata": {},
   "outputs": [
    {
     "data": {
      "text/html": [
       "<div>\n",
       "<style scoped>\n",
       "    .dataframe tbody tr th:only-of-type {\n",
       "        vertical-align: middle;\n",
       "    }\n",
       "\n",
       "    .dataframe tbody tr th {\n",
       "        vertical-align: top;\n",
       "    }\n",
       "\n",
       "    .dataframe thead th {\n",
       "        text-align: right;\n",
       "    }\n",
       "</style>\n",
       "<table border=\"1\" class=\"dataframe\">\n",
       "  <thead>\n",
       "    <tr style=\"text-align: right;\">\n",
       "      <th></th>\n",
       "      <th>Time</th>\n",
       "      <th>V1</th>\n",
       "      <th>V2</th>\n",
       "      <th>V3</th>\n",
       "      <th>V4</th>\n",
       "      <th>V5</th>\n",
       "      <th>V6</th>\n",
       "      <th>V7</th>\n",
       "      <th>V8</th>\n",
       "      <th>V9</th>\n",
       "      <th>...</th>\n",
       "      <th>V21</th>\n",
       "      <th>V22</th>\n",
       "      <th>V23</th>\n",
       "      <th>V24</th>\n",
       "      <th>V25</th>\n",
       "      <th>V26</th>\n",
       "      <th>V27</th>\n",
       "      <th>V28</th>\n",
       "      <th>Amount</th>\n",
       "      <th>Class</th>\n",
       "    </tr>\n",
       "  </thead>\n",
       "  <tbody>\n",
       "    <tr>\n",
       "      <th>0</th>\n",
       "      <td>0.00</td>\n",
       "      <td>-1.36</td>\n",
       "      <td>-0.07</td>\n",
       "      <td>2.54</td>\n",
       "      <td>1.38</td>\n",
       "      <td>-0.34</td>\n",
       "      <td>0.46</td>\n",
       "      <td>0.24</td>\n",
       "      <td>0.10</td>\n",
       "      <td>0.36</td>\n",
       "      <td>...</td>\n",
       "      <td>-0.02</td>\n",
       "      <td>0.28</td>\n",
       "      <td>-0.11</td>\n",
       "      <td>0.07</td>\n",
       "      <td>0.13</td>\n",
       "      <td>-0.19</td>\n",
       "      <td>0.13</td>\n",
       "      <td>-0.02</td>\n",
       "      <td>149.62</td>\n",
       "      <td>0</td>\n",
       "    </tr>\n",
       "    <tr>\n",
       "      <th>1</th>\n",
       "      <td>0.00</td>\n",
       "      <td>1.19</td>\n",
       "      <td>0.27</td>\n",
       "      <td>0.17</td>\n",
       "      <td>0.45</td>\n",
       "      <td>0.06</td>\n",
       "      <td>-0.08</td>\n",
       "      <td>-0.08</td>\n",
       "      <td>0.09</td>\n",
       "      <td>-0.26</td>\n",
       "      <td>...</td>\n",
       "      <td>-0.23</td>\n",
       "      <td>-0.64</td>\n",
       "      <td>0.10</td>\n",
       "      <td>-0.34</td>\n",
       "      <td>0.17</td>\n",
       "      <td>0.13</td>\n",
       "      <td>-0.01</td>\n",
       "      <td>0.01</td>\n",
       "      <td>2.69</td>\n",
       "      <td>0</td>\n",
       "    </tr>\n",
       "    <tr>\n",
       "      <th>2</th>\n",
       "      <td>1.00</td>\n",
       "      <td>-1.36</td>\n",
       "      <td>-1.34</td>\n",
       "      <td>1.77</td>\n",
       "      <td>0.38</td>\n",
       "      <td>-0.50</td>\n",
       "      <td>1.80</td>\n",
       "      <td>0.79</td>\n",
       "      <td>0.25</td>\n",
       "      <td>-1.51</td>\n",
       "      <td>...</td>\n",
       "      <td>0.25</td>\n",
       "      <td>0.77</td>\n",
       "      <td>0.91</td>\n",
       "      <td>-0.69</td>\n",
       "      <td>-0.33</td>\n",
       "      <td>-0.14</td>\n",
       "      <td>-0.06</td>\n",
       "      <td>-0.06</td>\n",
       "      <td>378.66</td>\n",
       "      <td>0</td>\n",
       "    </tr>\n",
       "    <tr>\n",
       "      <th>3</th>\n",
       "      <td>1.00</td>\n",
       "      <td>-0.97</td>\n",
       "      <td>-0.19</td>\n",
       "      <td>1.79</td>\n",
       "      <td>-0.86</td>\n",
       "      <td>-0.01</td>\n",
       "      <td>1.25</td>\n",
       "      <td>0.24</td>\n",
       "      <td>0.38</td>\n",
       "      <td>-1.39</td>\n",
       "      <td>...</td>\n",
       "      <td>-0.11</td>\n",
       "      <td>0.01</td>\n",
       "      <td>-0.19</td>\n",
       "      <td>-1.18</td>\n",
       "      <td>0.65</td>\n",
       "      <td>-0.22</td>\n",
       "      <td>0.06</td>\n",
       "      <td>0.06</td>\n",
       "      <td>123.50</td>\n",
       "      <td>0</td>\n",
       "    </tr>\n",
       "    <tr>\n",
       "      <th>4</th>\n",
       "      <td>2.00</td>\n",
       "      <td>-1.16</td>\n",
       "      <td>0.88</td>\n",
       "      <td>1.55</td>\n",
       "      <td>0.40</td>\n",
       "      <td>-0.41</td>\n",
       "      <td>0.10</td>\n",
       "      <td>0.59</td>\n",
       "      <td>-0.27</td>\n",
       "      <td>0.82</td>\n",
       "      <td>...</td>\n",
       "      <td>-0.01</td>\n",
       "      <td>0.80</td>\n",
       "      <td>-0.14</td>\n",
       "      <td>0.14</td>\n",
       "      <td>-0.21</td>\n",
       "      <td>0.50</td>\n",
       "      <td>0.22</td>\n",
       "      <td>0.22</td>\n",
       "      <td>69.99</td>\n",
       "      <td>0</td>\n",
       "    </tr>\n",
       "  </tbody>\n",
       "</table>\n",
       "<p>5 rows × 31 columns</p>\n",
       "</div>"
      ],
      "text/plain": [
       "   Time    V1    V2   V3    V4    V5    V6    V7    V8    V9  ...   V21   V22  \\\n",
       "0  0.00 -1.36 -0.07 2.54  1.38 -0.34  0.46  0.24  0.10  0.36  ... -0.02  0.28   \n",
       "1  0.00  1.19  0.27 0.17  0.45  0.06 -0.08 -0.08  0.09 -0.26  ... -0.23 -0.64   \n",
       "2  1.00 -1.36 -1.34 1.77  0.38 -0.50  1.80  0.79  0.25 -1.51  ...  0.25  0.77   \n",
       "3  1.00 -0.97 -0.19 1.79 -0.86 -0.01  1.25  0.24  0.38 -1.39  ... -0.11  0.01   \n",
       "4  2.00 -1.16  0.88 1.55  0.40 -0.41  0.10  0.59 -0.27  0.82  ... -0.01  0.80   \n",
       "\n",
       "    V23   V24   V25   V26   V27   V28  Amount  Class  \n",
       "0 -0.11  0.07  0.13 -0.19  0.13 -0.02  149.62      0  \n",
       "1  0.10 -0.34  0.17  0.13 -0.01  0.01    2.69      0  \n",
       "2  0.91 -0.69 -0.33 -0.14 -0.06 -0.06  378.66      0  \n",
       "3 -0.19 -1.18  0.65 -0.22  0.06  0.06  123.50      0  \n",
       "4 -0.14  0.14 -0.21  0.50  0.22  0.22   69.99      0  \n",
       "\n",
       "[5 rows x 31 columns]"
      ]
     },
     "execution_count": 76,
     "metadata": {},
     "output_type": "execute_result"
    }
   ],
   "source": [
    "df.head()"
   ]
  },
  {
   "cell_type": "code",
   "execution_count": 77,
   "id": "d654af77",
   "metadata": {},
   "outputs": [
    {
     "data": {
      "text/html": [
       "<div>\n",
       "<style scoped>\n",
       "    .dataframe tbody tr th:only-of-type {\n",
       "        vertical-align: middle;\n",
       "    }\n",
       "\n",
       "    .dataframe tbody tr th {\n",
       "        vertical-align: top;\n",
       "    }\n",
       "\n",
       "    .dataframe thead th {\n",
       "        text-align: right;\n",
       "    }\n",
       "</style>\n",
       "<table border=\"1\" class=\"dataframe\">\n",
       "  <thead>\n",
       "    <tr style=\"text-align: right;\">\n",
       "      <th></th>\n",
       "      <th>Time</th>\n",
       "      <th>V1</th>\n",
       "      <th>V2</th>\n",
       "      <th>V3</th>\n",
       "      <th>V4</th>\n",
       "      <th>V5</th>\n",
       "      <th>V6</th>\n",
       "      <th>V7</th>\n",
       "      <th>V8</th>\n",
       "      <th>V9</th>\n",
       "      <th>...</th>\n",
       "      <th>V21</th>\n",
       "      <th>V22</th>\n",
       "      <th>V23</th>\n",
       "      <th>V24</th>\n",
       "      <th>V25</th>\n",
       "      <th>V26</th>\n",
       "      <th>V27</th>\n",
       "      <th>V28</th>\n",
       "      <th>Amount</th>\n",
       "      <th>Class</th>\n",
       "    </tr>\n",
       "  </thead>\n",
       "  <tbody>\n",
       "    <tr>\n",
       "      <th>count</th>\n",
       "      <td>284807.00</td>\n",
       "      <td>284807.00</td>\n",
       "      <td>284807.00</td>\n",
       "      <td>284807.00</td>\n",
       "      <td>284807.00</td>\n",
       "      <td>284807.00</td>\n",
       "      <td>284807.00</td>\n",
       "      <td>284807.00</td>\n",
       "      <td>284807.00</td>\n",
       "      <td>284807.00</td>\n",
       "      <td>...</td>\n",
       "      <td>284807.00</td>\n",
       "      <td>284807.00</td>\n",
       "      <td>284807.00</td>\n",
       "      <td>284807.00</td>\n",
       "      <td>284807.00</td>\n",
       "      <td>284807.00</td>\n",
       "      <td>284807.00</td>\n",
       "      <td>284807.00</td>\n",
       "      <td>284807.00</td>\n",
       "      <td>284807.00</td>\n",
       "    </tr>\n",
       "    <tr>\n",
       "      <th>mean</th>\n",
       "      <td>94813.86</td>\n",
       "      <td>0.00</td>\n",
       "      <td>0.00</td>\n",
       "      <td>-0.00</td>\n",
       "      <td>0.00</td>\n",
       "      <td>-0.00</td>\n",
       "      <td>0.00</td>\n",
       "      <td>-0.00</td>\n",
       "      <td>-0.00</td>\n",
       "      <td>-0.00</td>\n",
       "      <td>...</td>\n",
       "      <td>0.00</td>\n",
       "      <td>0.00</td>\n",
       "      <td>0.00</td>\n",
       "      <td>0.00</td>\n",
       "      <td>0.00</td>\n",
       "      <td>0.00</td>\n",
       "      <td>-0.00</td>\n",
       "      <td>-0.00</td>\n",
       "      <td>88.35</td>\n",
       "      <td>0.00</td>\n",
       "    </tr>\n",
       "    <tr>\n",
       "      <th>std</th>\n",
       "      <td>47488.15</td>\n",
       "      <td>1.96</td>\n",
       "      <td>1.65</td>\n",
       "      <td>1.52</td>\n",
       "      <td>1.42</td>\n",
       "      <td>1.38</td>\n",
       "      <td>1.33</td>\n",
       "      <td>1.24</td>\n",
       "      <td>1.19</td>\n",
       "      <td>1.10</td>\n",
       "      <td>...</td>\n",
       "      <td>0.73</td>\n",
       "      <td>0.73</td>\n",
       "      <td>0.62</td>\n",
       "      <td>0.61</td>\n",
       "      <td>0.52</td>\n",
       "      <td>0.48</td>\n",
       "      <td>0.40</td>\n",
       "      <td>0.33</td>\n",
       "      <td>250.12</td>\n",
       "      <td>0.04</td>\n",
       "    </tr>\n",
       "    <tr>\n",
       "      <th>min</th>\n",
       "      <td>0.00</td>\n",
       "      <td>-56.41</td>\n",
       "      <td>-72.72</td>\n",
       "      <td>-48.33</td>\n",
       "      <td>-5.68</td>\n",
       "      <td>-113.74</td>\n",
       "      <td>-26.16</td>\n",
       "      <td>-43.56</td>\n",
       "      <td>-73.22</td>\n",
       "      <td>-13.43</td>\n",
       "      <td>...</td>\n",
       "      <td>-34.83</td>\n",
       "      <td>-10.93</td>\n",
       "      <td>-44.81</td>\n",
       "      <td>-2.84</td>\n",
       "      <td>-10.30</td>\n",
       "      <td>-2.60</td>\n",
       "      <td>-22.57</td>\n",
       "      <td>-15.43</td>\n",
       "      <td>0.00</td>\n",
       "      <td>0.00</td>\n",
       "    </tr>\n",
       "    <tr>\n",
       "      <th>25%</th>\n",
       "      <td>54201.50</td>\n",
       "      <td>-0.92</td>\n",
       "      <td>-0.60</td>\n",
       "      <td>-0.89</td>\n",
       "      <td>-0.85</td>\n",
       "      <td>-0.69</td>\n",
       "      <td>-0.77</td>\n",
       "      <td>-0.55</td>\n",
       "      <td>-0.21</td>\n",
       "      <td>-0.64</td>\n",
       "      <td>...</td>\n",
       "      <td>-0.23</td>\n",
       "      <td>-0.54</td>\n",
       "      <td>-0.16</td>\n",
       "      <td>-0.35</td>\n",
       "      <td>-0.32</td>\n",
       "      <td>-0.33</td>\n",
       "      <td>-0.07</td>\n",
       "      <td>-0.05</td>\n",
       "      <td>5.60</td>\n",
       "      <td>0.00</td>\n",
       "    </tr>\n",
       "    <tr>\n",
       "      <th>50%</th>\n",
       "      <td>84692.00</td>\n",
       "      <td>0.02</td>\n",
       "      <td>0.07</td>\n",
       "      <td>0.18</td>\n",
       "      <td>-0.02</td>\n",
       "      <td>-0.05</td>\n",
       "      <td>-0.27</td>\n",
       "      <td>0.04</td>\n",
       "      <td>0.02</td>\n",
       "      <td>-0.05</td>\n",
       "      <td>...</td>\n",
       "      <td>-0.03</td>\n",
       "      <td>0.01</td>\n",
       "      <td>-0.01</td>\n",
       "      <td>0.04</td>\n",
       "      <td>0.02</td>\n",
       "      <td>-0.05</td>\n",
       "      <td>0.00</td>\n",
       "      <td>0.01</td>\n",
       "      <td>22.00</td>\n",
       "      <td>0.00</td>\n",
       "    </tr>\n",
       "    <tr>\n",
       "      <th>75%</th>\n",
       "      <td>139320.50</td>\n",
       "      <td>1.32</td>\n",
       "      <td>0.80</td>\n",
       "      <td>1.03</td>\n",
       "      <td>0.74</td>\n",
       "      <td>0.61</td>\n",
       "      <td>0.40</td>\n",
       "      <td>0.57</td>\n",
       "      <td>0.33</td>\n",
       "      <td>0.60</td>\n",
       "      <td>...</td>\n",
       "      <td>0.19</td>\n",
       "      <td>0.53</td>\n",
       "      <td>0.15</td>\n",
       "      <td>0.44</td>\n",
       "      <td>0.35</td>\n",
       "      <td>0.24</td>\n",
       "      <td>0.09</td>\n",
       "      <td>0.08</td>\n",
       "      <td>77.16</td>\n",
       "      <td>0.00</td>\n",
       "    </tr>\n",
       "    <tr>\n",
       "      <th>max</th>\n",
       "      <td>172792.00</td>\n",
       "      <td>2.45</td>\n",
       "      <td>22.06</td>\n",
       "      <td>9.38</td>\n",
       "      <td>16.88</td>\n",
       "      <td>34.80</td>\n",
       "      <td>73.30</td>\n",
       "      <td>120.59</td>\n",
       "      <td>20.01</td>\n",
       "      <td>15.59</td>\n",
       "      <td>...</td>\n",
       "      <td>27.20</td>\n",
       "      <td>10.50</td>\n",
       "      <td>22.53</td>\n",
       "      <td>4.58</td>\n",
       "      <td>7.52</td>\n",
       "      <td>3.52</td>\n",
       "      <td>31.61</td>\n",
       "      <td>33.85</td>\n",
       "      <td>25691.16</td>\n",
       "      <td>1.00</td>\n",
       "    </tr>\n",
       "  </tbody>\n",
       "</table>\n",
       "<p>8 rows × 31 columns</p>\n",
       "</div>"
      ],
      "text/plain": [
       "           Time        V1        V2        V3        V4        V5        V6  \\\n",
       "count 284807.00 284807.00 284807.00 284807.00 284807.00 284807.00 284807.00   \n",
       "mean   94813.86      0.00      0.00     -0.00      0.00     -0.00      0.00   \n",
       "std    47488.15      1.96      1.65      1.52      1.42      1.38      1.33   \n",
       "min        0.00    -56.41    -72.72    -48.33     -5.68   -113.74    -26.16   \n",
       "25%    54201.50     -0.92     -0.60     -0.89     -0.85     -0.69     -0.77   \n",
       "50%    84692.00      0.02      0.07      0.18     -0.02     -0.05     -0.27   \n",
       "75%   139320.50      1.32      0.80      1.03      0.74      0.61      0.40   \n",
       "max   172792.00      2.45     22.06      9.38     16.88     34.80     73.30   \n",
       "\n",
       "             V7        V8        V9  ...       V21       V22       V23  \\\n",
       "count 284807.00 284807.00 284807.00  ... 284807.00 284807.00 284807.00   \n",
       "mean      -0.00     -0.00     -0.00  ...      0.00      0.00      0.00   \n",
       "std        1.24      1.19      1.10  ...      0.73      0.73      0.62   \n",
       "min      -43.56    -73.22    -13.43  ...    -34.83    -10.93    -44.81   \n",
       "25%       -0.55     -0.21     -0.64  ...     -0.23     -0.54     -0.16   \n",
       "50%        0.04      0.02     -0.05  ...     -0.03      0.01     -0.01   \n",
       "75%        0.57      0.33      0.60  ...      0.19      0.53      0.15   \n",
       "max      120.59     20.01     15.59  ...     27.20     10.50     22.53   \n",
       "\n",
       "            V24       V25       V26       V27       V28    Amount     Class  \n",
       "count 284807.00 284807.00 284807.00 284807.00 284807.00 284807.00 284807.00  \n",
       "mean       0.00      0.00      0.00     -0.00     -0.00     88.35      0.00  \n",
       "std        0.61      0.52      0.48      0.40      0.33    250.12      0.04  \n",
       "min       -2.84    -10.30     -2.60    -22.57    -15.43      0.00      0.00  \n",
       "25%       -0.35     -0.32     -0.33     -0.07     -0.05      5.60      0.00  \n",
       "50%        0.04      0.02     -0.05      0.00      0.01     22.00      0.00  \n",
       "75%        0.44      0.35      0.24      0.09      0.08     77.16      0.00  \n",
       "max        4.58      7.52      3.52     31.61     33.85  25691.16      1.00  \n",
       "\n",
       "[8 rows x 31 columns]"
      ]
     },
     "execution_count": 77,
     "metadata": {},
     "output_type": "execute_result"
    }
   ],
   "source": [
    "df.describe()"
   ]
  },
  {
   "cell_type": "code",
   "execution_count": 78,
   "id": "9bcdfea6",
   "metadata": {},
   "outputs": [
    {
     "data": {
      "text/plain": [
       "Time      0\n",
       "V1        0\n",
       "V2        0\n",
       "V3        0\n",
       "V4        0\n",
       "V5        0\n",
       "V6        0\n",
       "V7        0\n",
       "V8        0\n",
       "V9        0\n",
       "V10       0\n",
       "V11       0\n",
       "V12       0\n",
       "V13       0\n",
       "V14       0\n",
       "V15       0\n",
       "V16       0\n",
       "V17       0\n",
       "V18       0\n",
       "V19       0\n",
       "V20       0\n",
       "V21       0\n",
       "V22       0\n",
       "V23       0\n",
       "V24       0\n",
       "V25       0\n",
       "V26       0\n",
       "V27       0\n",
       "V28       0\n",
       "Amount    0\n",
       "Class     0\n",
       "dtype: int64"
      ]
     },
     "execution_count": 78,
     "metadata": {},
     "output_type": "execute_result"
    }
   ],
   "source": [
    "# check for missing values\n",
    "df.isnull().sum()"
   ]
  },
  {
   "cell_type": "markdown",
   "id": "fd43628a",
   "metadata": {},
   "source": [
    "# Class Distribution"
   ]
  },
  {
   "cell_type": "code",
   "execution_count": 79,
   "id": "1aa67791",
   "metadata": {},
   "outputs": [
    {
     "data": {
      "image/png": "[encoded data removed]",
      "text/plain": [
       "<Figure size 432x288 with 1 Axes>"
      ]
     },
     "metadata": {
      "needs_background": "light"
     },
     "output_type": "display_data"
    }
   ],
   "source": [
    "sns.countplot(x = 'Class', data = df)\n",
    "# df[\"Class\"].value_counts().plot(kind = \"bar\")\n",
    "plt.title(\"Class Distribution\")\n",
    "plt.xlabel(\"Class\")\n",
    "plt.ylabel(\"No. of transactions\")\n",
    "plt.show()"
   ]
  },
  {
   "cell_type": "markdown",
   "id": "af968bc8",
   "metadata": {},
   "source": [
    "Out of 284807 transactions, only 492 are fraudulent. Thus, the dataset is highly imbalanced."
   ]
  },
  {
   "cell_type": "markdown",
   "id": "05cb51e9",
   "metadata": {},
   "source": [
    "# Feature Correlation Map"
   ]
  },
  {
   "cell_type": "code",
   "execution_count": 80,
   "id": "17ecd833",
   "metadata": {},
   "outputs": [
    {
     "data": {
      "image/png": "[encoded data removed]",
      "text/plain": [
       "<Figure size 1008x1008 with 2 Axes>"
      ]
     },
     "metadata": {
      "needs_background": "light"
     },
     "output_type": "display_data"
    }
   ],
   "source": [
    "# feature correlation map\n",
    "plt.figure(figsize = (14, 14))\n",
    "plt.title(\"Feature Correlation Map\")\n",
    "corr = df.corr()\n",
    "sns.heatmap(corr, xticklabels = corr.columns, yticklabels = corr.columns, linewidths = .1, cmap = \"PuBu\")\n",
    "plt.show()"
   ]
  },
  {
   "cell_type": "markdown",
   "id": "76dcce10",
   "metadata": {},
   "source": [
    "# Observations:"
   ]
  },
  {
   "cell_type": "markdown",
   "id": "bd4056a2",
   "metadata": {},
   "source": [
    "* There is no notable correlation between features V1 to V28.\n",
    "* Time has inverse correlation with V3.\n",
    "* Amount has direct correlation with V7 & V20 and inverse correlation with V2 & V5."
   ]
  },
  {
   "cell_type": "code",
   "execution_count": 81,
   "id": "f0f3367c",
   "metadata": {},
   "outputs": [],
   "source": [
    "# define predictors and target \n",
    "target = \"Class\"\n",
    "# all columns except class\n",
    "predictors = df.columns.tolist()[:-1]"
   ]
  },
  {
   "cell_type": "code",
   "execution_count": 82,
   "id": "1468f2d9",
   "metadata": {},
   "outputs": [],
   "source": [
    "# split the data\n",
    "train_df, test_df = train_test_split(df, test_size = 0.2, random_state = 42, shuffle = True)\n",
    "train_df, valid_df = train_test_split(train_df, test_size = 0.2, random_state = 42, shuffle = True)"
   ]
  },
  {
   "cell_type": "code",
   "execution_count": 83,
   "id": "e08f000e",
   "metadata": {},
   "outputs": [],
   "source": [
    "x_train, x_valid, x_test = train_df[predictors], valid_df[predictors], test_df[predictors]\n",
    "y_train, y_valid, y_test = train_df[target].values, valid_df[target].values, test_df[target].values"
   ]
  },
  {
   "cell_type": "markdown",
   "id": "ca3ed074",
   "metadata": {},
   "source": [
    "# Random Forest"
   ]
  },
  {
   "cell_type": "code",
   "execution_count": 84,
   "id": "befb96bb",
   "metadata": {},
   "outputs": [],
   "source": [
    "clf = RandomForestClassifier(n_jobs = 4,\n",
    "                             random_state = 42,\n",
    "                             criterion = \"gini\",\n",
    "                             n_estimators = 100,\n",
    "                             verbose = False)"
   ]
  },
  {
   "cell_type": "code",
   "execution_count": 85,
   "id": "3ce4187e",
   "metadata": {},
   "outputs": [
    {
     "data": {
      "text/html": [
       "<style>#sk-container-id-1 {color: black;background-color: white;}#sk-container-id-1 pre{padding: 0;}#sk-container-id-1 div.sk-toggleable {background-color: white;}#sk-container-id-1 label.sk-toggleable__label {cursor: pointer;display: block;width: 100%;margin-bottom: 0;padding: 0.3em;box-sizing: border-box;text-align: center;}#sk-container-id-1 label.sk-toggleable__label-arrow:before {content: \"▸\";float: left;margin-right: 0.25em;color: #696969;}#sk-container-id-1 label.sk-toggleable__label-arrow:hover:before {color: black;}#sk-container-id-1 div.sk-estimator:hover label.sk-toggleable__label-arrow:before {color: black;}#sk-container-id-1 div.sk-toggleable__content {max-height: 0;max-width: 0;overflow: hidden;text-align: left;background-color: #f0f8ff;}#sk-container-id-1 div.sk-toggleable__content pre {margin: 0.2em;color: black;border-radius: 0.25em;background-color: #f0f8ff;}#sk-container-id-1 input.sk-toggleable__control:checked~div.sk-toggleable__content {max-height: 200px;max-width: 100%;overflow: auto;}#sk-container-id-1 input.sk-toggleable__control:checked~label.sk-toggleable__label-arrow:before {content: \"▾\";}#sk-container-id-1 div.sk-estimator input.sk-toggleable__control:checked~label.sk-toggleable__label {background-color: #d4ebff;}#sk-container-id-1 div.sk-label input.sk-toggleable__control:checked~label.sk-toggleable__label {background-color: #d4ebff;}#sk-container-id-1 input.sk-hidden--visually {border: 0;clip: rect(1px 1px 1px 1px);clip: rect(1px, 1px, 1px, 1px);height: 1px;margin: -1px;overflow: hidden;padding: 0;position: absolute;width: 1px;}#sk-container-id-1 div.sk-estimator {font-family: monospace;background-color: #f0f8ff;border: 1px dotted black;border-radius: 0.25em;box-sizing: border-box;margin-bottom: 0.5em;}#sk-container-id-1 div.sk-estimator:hover {background-color: #d4ebff;}#sk-container-id-1 div.sk-parallel-item::after {content: \"\";width: 100%;border-bottom: 1px solid gray;flex-grow: 1;}#sk-container-id-1 div.sk-label:hover label.sk-toggleable__label {background-color: #d4ebff;}#sk-container-id-1 div.sk-serial::before {content: \"\";position: absolute;border-left: 1px solid gray;box-sizing: border-box;top: 0;bottom: 0;left: 50%;z-index: 0;}#sk-container-id-1 div.sk-serial {display: flex;flex-direction: column;align-items: center;background-color: white;padding-right: 0.2em;padding-left: 0.2em;position: relative;}#sk-container-id-1 div.sk-item {position: relative;z-index: 1;}#sk-container-id-1 div.sk-parallel {display: flex;align-items: stretch;justify-content: center;background-color: white;position: relative;}#sk-container-id-1 div.sk-item::before, #sk-container-id-1 div.sk-parallel-item::before {content: \"\";position: absolute;border-left: 1px solid gray;box-sizing: border-box;top: 0;bottom: 0;left: 50%;z-index: -1;}#sk-container-id-1 div.sk-parallel-item {display: flex;flex-direction: column;z-index: 1;position: relative;background-color: white;}#sk-container-id-1 div.sk-parallel-item:first-child::after {align-self: flex-end;width: 50%;}#sk-container-id-1 div.sk-parallel-item:last-child::after {align-self: flex-start;width: 50%;}#sk-container-id-1 div.sk-parallel-item:only-child::after {width: 0;}#sk-container-id-1 div.sk-dashed-wrapped {border: 1px dashed gray;margin: 0 0.4em 0.5em 0.4em;box-sizing: border-box;padding-bottom: 0.4em;background-color: white;}#sk-container-id-1 div.sk-label label {font-family: monospace;font-weight: bold;display: inline-block;line-height: 1.2em;}#sk-container-id-1 div.sk-label-container {text-align: center;}#sk-container-id-1 div.sk-container {/* jupyter's `normalize.less` sets `[hidden] { display: none; }` but bootstrap.min.css set `[hidden] { display: none !important; }` so we also need the `!important` here to be able to override the default hidden behavior on the sphinx rendered scikit-learn.org. See: https://github.com/scikit-learn/scikit-learn/issues/21755 */display: inline-block !important;position: relative;}#sk-container-id-1 div.sk-text-repr-fallback {display: none;}</style><div id=\"sk-container-id-1\" class=\"sk-top-container\"><div class=\"sk-text-repr-fallback\"><pre>RandomForestClassifier(n_jobs=4, random_state=42, verbose=False)</pre><b>In a Jupyter environment, please rerun this cell to show the HTML representation or trust the notebook. <br />On GitHub, the HTML representation is unable to render, please try loading this page with nbviewer.org.</b></div><div class=\"sk-container\" hidden><div class=\"sk-item\"><div class=\"sk-estimator sk-toggleable\"><input class=\"sk-toggleable__control sk-hidden--visually\" id=\"sk-estimator-id-1\" type=\"checkbox\" checked><label for=\"sk-estimator-id-1\" class=\"sk-toggleable__label sk-toggleable__label-arrow\">RandomForestClassifier</label><div class=\"sk-toggleable__content\"><pre>RandomForestClassifier(n_jobs=4, random_state=42, verbose=False)</pre></div></div></div></div></div>"
      ],
      "text/plain": [
       "RandomForestClassifier(n_jobs=4, random_state=42, verbose=False)"
      ]
     },
     "execution_count": 85,
     "metadata": {},
     "output_type": "execute_result"
    }
   ],
   "source": [
    "clf.fit(train_df[predictors], train_df[target].values)"
   ]
  },
  {
   "cell_type": "code",
   "execution_count": 86,
   "id": "28114d09",
   "metadata": {},
   "outputs": [],
   "source": [
    "preds = clf.predict(valid_df[predictors])"
   ]
  },
  {
   "cell_type": "code",
   "execution_count": 87,
   "id": "5c130d21",
   "metadata": {},
   "outputs": [],
   "source": [
    "# clf.score(test_df[predictors], test_df[target].values)"
   ]
  },
  {
   "cell_type": "code",
   "execution_count": 88,
   "id": "6ac3344d",
   "metadata": {},
   "outputs": [
    {
     "data": {
      "image/png": "[encoded data removed]",
      "text/plain": [
       "<Figure size 360x360 with 2 Axes>"
      ]
     },
     "metadata": {
      "needs_background": "light"
     },
     "output_type": "display_data"
    }
   ],
   "source": [
    "# confusion matrix\n",
    "cm = pd.crosstab(valid_df[target].values, preds, rownames = ['Actual'], colnames = ['Predicted'])\n",
    "fig, ax1 = plt.subplots(ncols = 1, figsize = (5, 5))\n",
    "sns.heatmap(cm, xticklabels = [\"Not Fraud\", \"Fraud\"], yticklabels = [\"Not Fraud\", \"Fraud\"], annot = True, ax = ax1, linewidth = .2, linecolor = \"Lightblue\", cmap = \"PuBu\")\n",
    "plt.title(\"Confusion Matrix\")\n",
    "plt.show()"
   ]
  },
  {
   "cell_type": "code",
   "execution_count": 89,
   "id": "77299f16",
   "metadata": {},
   "outputs": [
    {
     "data": {
      "text/plain": [
       "0.8828015121964619"
      ]
     },
     "execution_count": 89,
     "metadata": {},
     "output_type": "execute_result"
    }
   ],
   "source": [
    "# area under curve\n",
    "roc_auc_score(valid_df[target].values, preds)"
   ]
  },
  {
   "cell_type": "markdown",
   "id": "3873122d",
   "metadata": {},
   "source": [
    "# AdaBoost"
   ]
  },
  {
   "cell_type": "code",
   "execution_count": 90,
   "id": "aaaf3ffa",
   "metadata": {},
   "outputs": [],
   "source": [
    "clf = AdaBoostClassifier(random_state = 42, algorithm = \"SAMME.R\", learning_rate = 0.8, n_estimators = 100)"
   ]
  },
  {
   "cell_type": "code",
   "execution_count": 91,
   "id": "60f1c590",
   "metadata": {},
   "outputs": [
    {
     "data": {
      "text/html": [
       "<style>#sk-container-id-2 {color: black;background-color: white;}#sk-container-id-2 pre{padding: 0;}#sk-container-id-2 div.sk-toggleable {background-color: white;}#sk-container-id-2 label.sk-toggleable__label {cursor: pointer;display: block;width: 100%;margin-bottom: 0;padding: 0.3em;box-sizing: border-box;text-align: center;}#sk-container-id-2 label.sk-toggleable__label-arrow:before {content: \"▸\";float: left;margin-right: 0.25em;color: #696969;}#sk-container-id-2 label.sk-toggleable__label-arrow:hover:before {color: black;}#sk-container-id-2 div.sk-estimator:hover label.sk-toggleable__label-arrow:before {color: black;}#sk-container-id-2 div.sk-toggleable__content {max-height: 0;max-width: 0;overflow: hidden;text-align: left;background-color: #f0f8ff;}#sk-container-id-2 div.sk-toggleable__content pre {margin: 0.2em;color: black;border-radius: 0.25em;background-color: #f0f8ff;}#sk-container-id-2 input.sk-toggleable__control:checked~div.sk-toggleable__content {max-height: 200px;max-width: 100%;overflow: auto;}#sk-container-id-2 input.sk-toggleable__control:checked~label.sk-toggleable__label-arrow:before {content: \"▾\";}#sk-container-id-2 div.sk-estimator input.sk-toggleable__control:checked~label.sk-toggleable__label {background-color: #d4ebff;}#sk-container-id-2 div.sk-label input.sk-toggleable__control:checked~label.sk-toggleable__label {background-color: #d4ebff;}#sk-container-id-2 input.sk-hidden--visually {border: 0;clip: rect(1px 1px 1px 1px);clip: rect(1px, 1px, 1px, 1px);height: 1px;margin: -1px;overflow: hidden;padding: 0;position: absolute;width: 1px;}#sk-container-id-2 div.sk-estimator {font-family: monospace;background-color: #f0f8ff;border: 1px dotted black;border-radius: 0.25em;box-sizing: border-box;margin-bottom: 0.5em;}#sk-container-id-2 div.sk-estimator:hover {background-color: #d4ebff;}#sk-container-id-2 div.sk-parallel-item::after {content: \"\";width: 100%;border-bottom: 1px solid gray;flex-grow: 1;}#sk-container-id-2 div.sk-label:hover label.sk-toggleable__label {background-color: #d4ebff;}#sk-container-id-2 div.sk-serial::before {content: \"\";position: absolute;border-left: 1px solid gray;box-sizing: border-box;top: 0;bottom: 0;left: 50%;z-index: 0;}#sk-container-id-2 div.sk-serial {display: flex;flex-direction: column;align-items: center;background-color: white;padding-right: 0.2em;padding-left: 0.2em;position: relative;}#sk-container-id-2 div.sk-item {position: relative;z-index: 1;}#sk-container-id-2 div.sk-parallel {display: flex;align-items: stretch;justify-content: center;background-color: white;position: relative;}#sk-container-id-2 div.sk-item::before, #sk-container-id-2 div.sk-parallel-item::before {content: \"\";position: absolute;border-left: 1px solid gray;box-sizing: border-box;top: 0;bottom: 0;left: 50%;z-index: -1;}#sk-container-id-2 div.sk-parallel-item {display: flex;flex-direction: column;z-index: 1;position: relative;background-color: white;}#sk-container-id-2 div.sk-parallel-item:first-child::after {align-self: flex-end;width: 50%;}#sk-container-id-2 div.sk-parallel-item:last-child::after {align-self: flex-start;width: 50%;}#sk-container-id-2 div.sk-parallel-item:only-child::after {width: 0;}#sk-container-id-2 div.sk-dashed-wrapped {border: 1px dashed gray;margin: 0 0.4em 0.5em 0.4em;box-sizing: border-box;padding-bottom: 0.4em;background-color: white;}#sk-container-id-2 div.sk-label label {font-family: monospace;font-weight: bold;display: inline-block;line-height: 1.2em;}#sk-container-id-2 div.sk-label-container {text-align: center;}#sk-container-id-2 div.sk-container {/* jupyter's `normalize.less` sets `[hidden] { display: none; }` but bootstrap.min.css set `[hidden] { display: none !important; }` so we also need the `!important` here to be able to override the default hidden behavior on the sphinx rendered scikit-learn.org. See: https://github.com/scikit-learn/scikit-learn/issues/21755 */display: inline-block !important;position: relative;}#sk-container-id-2 div.sk-text-repr-fallback {display: none;}</style><div id=\"sk-container-id-2\" class=\"sk-top-container\"><div class=\"sk-text-repr-fallback\"><pre>AdaBoostClassifier(learning_rate=0.8, n_estimators=100, random_state=42)</pre><b>In a Jupyter environment, please rerun this cell to show the HTML representation or trust the notebook. <br />On GitHub, the HTML representation is unable to render, please try loading this page with nbviewer.org.</b></div><div class=\"sk-container\" hidden><div class=\"sk-item\"><div class=\"sk-estimator sk-toggleable\"><input class=\"sk-toggleable__control sk-hidden--visually\" id=\"sk-estimator-id-2\" type=\"checkbox\" checked><label for=\"sk-estimator-id-2\" class=\"sk-toggleable__label sk-toggleable__label-arrow\">AdaBoostClassifier</label><div class=\"sk-toggleable__content\"><pre>AdaBoostClassifier(learning_rate=0.8, n_estimators=100, random_state=42)</pre></div></div></div></div></div>"
      ],
      "text/plain": [
       "AdaBoostClassifier(learning_rate=0.8, n_estimators=100, random_state=42)"
      ]
     },
     "execution_count": 91,
     "metadata": {},
     "output_type": "execute_result"
    }
   ],
   "source": [
    "clf.fit(x_train, y_train)"
   ]
  },
  {
   "cell_type": "code",
   "execution_count": 92,
   "id": "3469f7f6",
   "metadata": {},
   "outputs": [],
   "source": [
    "preds = clf.predict(x_valid)"
   ]
  },
  {
   "cell_type": "code",
   "execution_count": 93,
   "id": "c3a72e50",
   "metadata": {},
   "outputs": [
    {
     "data": {
      "image/png": "[encoded data removed]",
      "text/plain": [
       "<Figure size 360x360 with 2 Axes>"
      ]
     },
     "metadata": {
      "needs_background": "light"
     },
     "output_type": "display_data"
    }
   ],
   "source": [
    "# confusion matrix\n",
    "cm = pd.crosstab(y_valid, preds, rownames = ['Actual'], colnames = ['Predicted'])\n",
    "fig, ax1 = plt.subplots(ncols = 1, figsize = (5, 5))\n",
    "sns.heatmap(cm, xticklabels = [\"Not Fraud\", \"Fraud\"], yticklabels = [\"Not Fraud\", \"Fraud\"], annot = True, ax = ax1, linewidth = .2, linecolor = \"Lightblue\", cmap = \"PuBu\")\n",
    "plt.title(\"Confusion Matrix\")\n",
    "plt.show()"
   ]
  },
  {
   "cell_type": "code",
   "execution_count": 94,
   "id": "8b97c79d",
   "metadata": {},
   "outputs": [
    {
     "data": {
      "text/plain": [
       "0.851419658554005"
      ]
     },
     "execution_count": 94,
     "metadata": {},
     "output_type": "execute_result"
    }
   ],
   "source": [
    "# area under curve\n",
    "roc_auc_score(y_valid, preds)"
   ]
  },
  {
   "cell_type": "markdown",
   "id": "a2817b33",
   "metadata": {},
   "source": [
    "# CatBoost"
   ]
  },
  {
   "cell_type": "code",
   "execution_count": 95,
   "id": "2f206a19",
   "metadata": {},
   "outputs": [],
   "source": [
    "clf = CatBoostClassifier(iterations = 500, learning_rate = 0.02, depth = 12,\n",
    "                         eval_metric = \"AUC\", random_seed = 42, bagging_temperature = 0.2,\n",
    "                         od_type = \"Iter\", metric_period = 50, od_wait = 100)"
   ]
  },
  {
   "cell_type": "code",
   "execution_count": 96,
   "id": "a6a027d3",
   "metadata": {},
   "outputs": [
    {
     "name": "stdout",
     "output_type": "stream",
     "text": [
      "0:\ttotal: 1.86s\tremaining: 15m 27s\n",
      "50:\ttotal: 1m\tremaining: 8m 48s\n",
      "100:\ttotal: 2m 2s\tremaining: 8m 2s\n",
      "150:\ttotal: 2m 56s\tremaining: 6m 47s\n",
      "200:\ttotal: 3m 47s\tremaining: 5m 38s\n",
      "250:\ttotal: 4m 39s\tremaining: 4m 36s\n",
      "300:\ttotal: 5m 30s\tremaining: 3m 38s\n",
      "350:\ttotal: 6m 22s\tremaining: 2m 42s\n",
      "400:\ttotal: 7m 14s\tremaining: 1m 47s\n",
      "450:\ttotal: 8m 5s\tremaining: 52.7s\n",
      "499:\ttotal: 8m 54s\tremaining: 0us\n"
     ]
    },
    {
     "data": {
      "text/plain": [
       "<catboost.core.CatBoostClassifier at 0x1f7933c2910>"
      ]
     },
     "execution_count": 96,
     "metadata": {},
     "output_type": "execute_result"
    }
   ],
   "source": [
    "clf.fit(x_train, y_train, verbose = True)"
   ]
  },
  {
   "cell_type": "code",
   "execution_count": 97,
   "id": "729a1237",
   "metadata": {},
   "outputs": [],
   "source": [
    "preds = clf.predict(x_valid)"
   ]
  },
  {
   "cell_type": "code",
   "execution_count": 98,
   "id": "f10653d7",
   "metadata": {},
   "outputs": [
    {
     "data": {
      "image/png": "[encoded data removed]",
      "text/plain": [
       "<Figure size 360x360 with 2 Axes>"
      ]
     },
     "metadata": {
      "needs_background": "light"
     },
     "output_type": "display_data"
    }
   ],
   "source": [
    "# confusion matrix\n",
    "cm = pd.crosstab(y_valid, preds, rownames = ['Actual'], colnames = ['Predicted'])\n",
    "fig, ax1 = plt.subplots(ncols = 1, figsize = (5, 5))\n",
    "sns.heatmap(cm, xticklabels = [\"Not Fraud\", \"Fraud\"], yticklabels = [\"Not Fraud\", \"Fraud\"], annot = True, ax = ax1, linewidth = .2, linecolor = \"Lightblue\", cmap = \"PuBu\")\n",
    "plt.title(\"Confusion Matrix\")\n",
    "plt.show()"
   ]
  },
  {
   "cell_type": "code",
   "execution_count": 99,
   "id": "4135a4f5",
   "metadata": {},
   "outputs": [
    {
     "data": {
      "text/plain": [
       "0.890625"
      ]
     },
     "execution_count": 99,
     "metadata": {},
     "output_type": "execute_result"
    }
   ],
   "source": [
    "# area under curve\n",
    "roc_auc_score(y_valid, preds)"
   ]
  },
  {
   "cell_type": "markdown",
   "id": "5e699d7e",
   "metadata": {},
   "source": [
    "# XGBoost"
   ]
  },
  {
   "cell_type": "code",
   "execution_count": 100,
   "id": "0b4a6963",
   "metadata": {},
   "outputs": [],
   "source": [
    "train = xgb.DMatrix(x_train, y_train)\n",
    "valid = xgb.DMatrix(x_valid, y_valid)\n",
    "test = xgb.DMatrix(x_test, y_test)\n",
    "\n",
    "# what to monitor \n",
    "watchlist = [(train, 'train'), (valid, 'valid')]\n",
    "\n",
    "# xgboost parameters\n",
    "params = {}\n",
    "params['objective'] = 'binary:logistic'\n",
    "params['eta'] = 0.039\n",
    "params['silent'] = True\n",
    "params['max_depth'] = 2\n",
    "params['subsample'] = 0.8\n",
    "params['colsample_bytree'] = 0.9\n",
    "params['eval_metric'] = 'auc'\n",
    "params['random_state'] = 42"
   ]
  },
  {
   "cell_type": "code",
   "execution_count": 101,
   "id": "81cea2be",
   "metadata": {},
   "outputs": [
    {
     "name": "stdout",
     "output_type": "stream",
     "text": [
      "[16:54:37] WARNING: C:/buildkite-agent/builds/buildkite-windows-cpu-autoscaling-group-i-030221e36e1a46bfb-1/xgboost/xgboost-ci-windows/src/learner.cc:767: \n",
      "Parameters: { \"silent\" } are not used.\n",
      "\n",
      "[0]\ttrain-auc:0.88014\tvalid-auc:0.87486\n",
      "[50]\ttrain-auc:0.91951\tvalid-auc:0.92951\n",
      "[100]\ttrain-auc:0.93605\tvalid-auc:0.93596\n",
      "[150]\ttrain-auc:0.97665\tvalid-auc:0.97069\n",
      "[200]\ttrain-auc:0.98816\tvalid-auc:0.98154\n",
      "[214]\ttrain-auc:0.98958\tvalid-auc:0.98045\n"
     ]
    }
   ],
   "source": [
    "model = xgb.train(params, train, 1000, watchlist,\n",
    "                  early_stopping_rounds = 50, maximize = True, verbose_eval = 50)"
   ]
  },
  {
   "cell_type": "code",
   "execution_count": 102,
   "id": "d91b7dfe",
   "metadata": {},
   "outputs": [],
   "source": [
    "preds = model.predict(test)"
   ]
  },
  {
   "cell_type": "code",
   "execution_count": 103,
   "id": "033a56de",
   "metadata": {},
   "outputs": [
    {
     "data": {
      "text/plain": [
       "0.972840048723485"
      ]
     },
     "execution_count": 103,
     "metadata": {},
     "output_type": "execute_result"
    }
   ],
   "source": [
    "# area under curve\n",
    "roc_auc_score(y_test, preds)\n"
   ]
  },
  {
   "cell_type": "markdown",
   "id": "86e97720",
   "metadata": {},
   "source": [
    "# LightGBM"
   ]
  },
  {
   "cell_type": "code",
   "execution_count": 104,
   "id": "545a40c0",
   "metadata": {},
   "outputs": [],
   "source": [
    "params = {\n",
    "          'boosting_type': 'gbdt',\n",
    "          'objective': 'binary',\n",
    "          'metric':'auc',\n",
    "          'learning_rate': 0.05,\n",
    "          'num_leaves': 7,  \n",
    "          'max_depth': 4,  \n",
    "          'min_child_samples': 100,  \n",
    "          'max_bin': 100,  \n",
    "          'subsample': 0.9,  \n",
    "          'subsample_freq': 1,  \n",
    "          'colsample_bytree': 0.7,  \n",
    "          'min_child_weight': 0,  \n",
    "          'min_split_gain': 0,  \n",
    "          'nthread': 8,\n",
    "          'verbose': 0,\n",
    "          'scale_pos_weight':150, \n",
    "         }"
   ]
  },
  {
   "cell_type": "code",
   "execution_count": 105,
   "id": "5f64ba68",
   "metadata": {},
   "outputs": [],
   "source": [
    "train = lgb.Dataset(x_train.values, y_train, feature_name = predictors)\n",
    "valid = lgb.Dataset(x_valid.values, y_valid, feature_name = predictors)\n",
    "evals_result = {}"
   ]
  },
  {
   "cell_type": "code",
   "execution_count": 106,
   "id": "efd59a8c",
   "metadata": {},
   "outputs": [
    {
     "name": "stdout",
     "output_type": "stream",
     "text": [
      "[LightGBM] [Warning] Auto-choosing row-wise multi-threading, the overhead of testing was 0.021119 seconds.\n",
      "You can set `force_row_wise=true` to remove the overhead.\n",
      "And if memory is not enough, you can set `force_col_wise=true`.\n",
      "Training until validation scores don't improve for 100 rounds\n",
      "[50]\ttrain's auc: 0.987274\tvalid's auc: 0.894282\n",
      "[100]\ttrain's auc: 0.987737\tvalid's auc: 0.85291\n",
      "Early stopping, best iteration is:\n",
      "[1]\ttrain's auc: 0.948018\tvalid's auc: 0.928341\n"
     ]
    }
   ],
   "source": [
    "model = lgb.train(params, train, valid_sets = [train, valid],\n",
    "                  valid_names = ['train', 'valid'], evals_result = evals_result,\n",
    "                  num_boost_round = 1000, early_stopping_rounds = 100,\n",
    "                  verbose_eval = 50, feval = None)"
   ]
  },
  {
   "cell_type": "code",
   "execution_count": 107,
   "id": "56163f97",
   "metadata": {},
   "outputs": [],
   "source": [
    "preds = model.predict(x_test)"
   ]
  },
  {
   "cell_type": "code",
   "execution_count": 108,
   "id": "e9b05c13",
   "metadata": {},
   "outputs": [
    {
     "data": {
      "text/plain": [
       "0.9319442271140308"
      ]
     },
     "execution_count": 108,
     "metadata": {},
     "output_type": "execute_result"
    }
   ],
   "source": [
    "# area under curve\n",
    "roc_auc_score(y_test, preds)"
   ]
  },
  {
   "cell_type": "markdown",
   "id": "b8df985d",
   "metadata": {},
   "source": [
    "# Results"
   ]
  },
  {
   "cell_type": "markdown",
   "id": "fd33d5d7",
   "metadata": {},
   "source": [
    "* Random Forest: 0.88\n",
    "* AdaBoost: 0.85\n",
    "* CatBoost: 0.89\n",
    "* XGBoost: 0.93\n",
    "* LightGBM: 0.93"
   ]
  },
  {
   "cell_type": "code",
   "execution_count": null,
   "id": "31b6a045",
   "metadata": {},
   "outputs": [],
   "source": []
  }
 ],
 "metadata": {
  "kernelspec": {
   "display_name": "Python 3 (ipykernel)",
   "language": "python",
   "name": "python3"
  },
  "language_info": {
   "codemirror_mode": {
    "name": "ipython",
    "version": 3
   },
   "file_extension": ".py",
   "mimetype": "text/x-python",
   "name": "python",
   "nbconvert_exporter": "python",
   "pygments_lexer": "ipython3",
   "version": "3.9.7"
  }
 },
 "nbformat": 4,
 "nbformat_minor": 5
}
